{
 "cells": [
  {
   "cell_type": "code",
   "execution_count": 7,
   "id": "dc51f562",
   "metadata": {},
   "outputs": [
    {
     "name": "stdout",
     "output_type": "stream",
     "text": [
      "                                   name_abbreviation  \\\n",
      "0                              Olsen v. Nelnet, Inc.   \n",
      "1  Am. Ctr. for Law & Justice v. U.S. Dep't of Ju...   \n",
      "2                             United States v. Emery   \n",
      "3                          Stearney v. United States   \n",
      "4          In re German Auto. Mfrs. Antitrust Litig.   \n",
      "\n",
      "                                      baseline_draft  \n",
      "0  Olsen v. Nelnet, Inc., filed in the D. Neb. on...  \n",
      "1  Am. Ctr. for Law & Justice v. U.S. Dep't of Ju...  \n",
      "2  United States v. Emery, filed in the D. S.D. o...  \n",
      "3  Stearney v. United States, filed in the D. Ari...  \n",
      "4  In re German Auto. Mfrs. Antitrust Litig., fil...  \n"
     ]
    }
   ],
   "source": [
    "import pandas as pd\n",
    "\n",
    "# Load cleaned metadata\n",
    "df_core = pd.read_csv(\"cleaned_legal_metadata.csv\")\n",
    "df_core['decision_date'] = pd.to_datetime(df_core['decision_date'], errors='coerce')\n",
    "\n",
    "# Template-based draft generator\n",
    "def generate_baseline_draft(row):\n",
    "    title = row['name_abbreviation']\n",
    "    court = row['court/name_abbreviation']\n",
    "    date = row['decision_date'].strftime('%B %d, %Y') if pd.notnull(row['decision_date']) else \"an unknown date\"\n",
    "    docket = row['docket_number']\n",
    "    \n",
    "    draft = (\n",
    "        f\"{title}, filed in the {court} on {date}, under docket number {docket}.\"\n",
    "    )\n",
    "    return draft\n",
    "\n",
    "# Apply to entire dataset\n",
    "df_core['baseline_draft'] = df_core.apply(generate_baseline_draft, axis=1)\n",
    "\n",
    "# Show a few examples\n",
    "print(df_core[['name_abbreviation', 'baseline_draft']].head())\n",
    "\n",
    "# Optional: Save output\n",
    "df_core.to_csv(\"baseline_drafted_filings_v2.csv\", index=False)\n",
    "\n"
   ]
  }
 ],
 "metadata": {
  "kernelspec": {
   "display_name": "Python 3",
   "language": "python",
   "name": "python3"
  },
  "language_info": {
   "codemirror_mode": {
    "name": "ipython",
    "version": 3
   },
   "file_extension": ".py",
   "mimetype": "text/x-python",
   "name": "python",
   "nbconvert_exporter": "python",
   "pygments_lexer": "ipython3",
   "version": "3.11.2"
  }
 },
 "nbformat": 4,
 "nbformat_minor": 5
}
