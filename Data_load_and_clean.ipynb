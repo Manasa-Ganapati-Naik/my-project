{
 "cells": [
  {
   "cell_type": "code",
   "execution_count": 1,
   "id": "681c8f16",
   "metadata": {},
   "outputs": [],
   "source": [
    "import pandas as pd\n",
    "import numpy as np"
   ]
  },
  {
   "cell_type": "code",
   "execution_count": 2,
   "id": "7a55760e",
   "metadata": {},
   "outputs": [
    {
     "name": "stdout",
     "output_type": "stream",
     "text": [
      "         id                                               name  \\\n",
      "0  12532561  Jessica OLSEN, on behalf of herself and all ot...   \n",
      "1  12532560  AMERICAN CENTER FOR LAW AND JUSTICE, Plaintiff...   \n",
      "2  12532562  UNITED STATES of America, Plaintiff, v. Steven...   \n",
      "3  12532563  Kaori STEARNEY, et al., Plaintiffs, v. UNITED ...   \n",
      "4  12532564  IN RE: GERMAN AUTOMOTIVE MANUFACTURERS ANTITRU...   \n",
      "\n",
      "                                   name_abbreviation decision_date  \\\n",
      "0                              Olsen v. Nelnet, Inc.    2019-05-21   \n",
      "1  Am. Ctr. for Law & Justice v. U.S. Dep't of Ju...    2019-06-30   \n",
      "2                             United States v. Emery    2019-06-21   \n",
      "3                          Stearney v. United States    2019-05-16   \n",
      "4          In re German Auto. Mfrs. Antitrust Litig.    2019-06-17   \n",
      "\n",
      "                    docket_number  first_page  last_page citations/0/type  \\\n",
      "0                    4:18-CV-3081        1006       1023         official   \n",
      "1  Civil Action No. 16-2188 (TJK)         100        108         official   \n",
      "2               3:18-CR-30122-RAL        1023       1037         official   \n",
      "3           No. CV16-8060-PCT-DGC        1037       1059         official   \n",
      "4          MDL No. 2796 CRB (JSC)        1059       1074         official   \n",
      "\n",
      "       citations/0/cite court/name_abbreviation  ...  \\\n",
      "0  392 F. Supp. 3d 1006                 D. Neb.  ...   \n",
      "1   392 F. Supp. 3d 100                  D.D.C.  ...   \n",
      "2  392 F. Supp. 3d 1023                 D. S.D.  ...   \n",
      "3  392 F. Supp. 3d 1037                D. Ariz.  ...   \n",
      "4  392 F. Supp. 3d 1059               N.D. Cal.  ...   \n",
      "\n",
      "   cites_to/41/pin_cites/10/page cites_to/41/pin_cites/11/page  \\\n",
      "0                            NaN                           NaN   \n",
      "1                            NaN                           NaN   \n",
      "2                            NaN                           NaN   \n",
      "3                            NaN                           NaN   \n",
      "4                            NaN                           NaN   \n",
      "\n",
      "   cites_to/41/pin_cites/12/page cites_to/41/pin_cites/13/page  \\\n",
      "0                            NaN                           NaN   \n",
      "1                            NaN                           NaN   \n",
      "2                            NaN                           NaN   \n",
      "3                            NaN                           NaN   \n",
      "4                            NaN                           NaN   \n",
      "\n",
      "  cites_to/41/pin_cites/14/page cites_to/13/pin_cites/5/parenthetical  \\\n",
      "0                           NaN                                   NaN   \n",
      "1                           NaN                                   NaN   \n",
      "2                           NaN                                   NaN   \n",
      "3                           NaN                                   NaN   \n",
      "4                           NaN                                   NaN   \n",
      "\n",
      "  cites_to/13/pin_cites/8/page cites_to/13/pin_cites/9/page  \\\n",
      "0                          NaN                          NaN   \n",
      "1                          NaN                          NaN   \n",
      "2                          NaN                          NaN   \n",
      "3                          NaN                          NaN   \n",
      "4                          NaN                          NaN   \n",
      "\n",
      "   cites_to/13/pin_cites/10/page  cites_to/13/pin_cites/11/page  \n",
      "0                            NaN                            NaN  \n",
      "1                            NaN                            NaN  \n",
      "2                            NaN                            NaN  \n",
      "3                            NaN                            NaN  \n",
      "4                            NaN                            NaN  \n",
      "\n",
      "[5 rows x 2685 columns]\n"
     ]
    }
   ],
   "source": [
    "file=\"C:/Users/manas/Downloads/convertcsv.csv\"\n",
    "df=pd.read_csv(file)\n",
    "print(df.head())"
   ]
  },
  {
   "cell_type": "code",
   "execution_count": 3,
   "id": "c2259834",
   "metadata": {},
   "outputs": [],
   "source": [
    "core_columns = [\n",
    "    'id',\n",
    "    'name',\n",
    "    'name_abbreviation',\n",
    "    'decision_date',\n",
    "    'docket_number',\n",
    "    'court/name_abbreviation'\n",
    "]\n",
    "df_core = df[core_columns].copy()"
   ]
  },
  {
   "cell_type": "code",
   "execution_count": 4,
   "id": "f5967572",
   "metadata": {},
   "outputs": [],
   "source": [
    "df_core['decision_date'] = pd.to_datetime(df_core['decision_date'], errors='coerce')\n"
   ]
  },
  {
   "cell_type": "code",
   "execution_count": 5,
   "id": "c6ec187e",
   "metadata": {},
   "outputs": [
    {
     "name": "stdout",
     "output_type": "stream",
     "text": [
      "Cleaned file saved as: cleaned_legal_metadata1.csv\n"
     ]
    }
   ],
   "source": [
    "df_core.reset_index(drop=True, inplace=True)\n",
    "cleaned_file_path = \"cleaned_legal_metadata1.csv\"\n",
    "df_core.to_csv(cleaned_file_path, index=False)\n",
    "\n",
    "print(f\"Cleaned file saved as: {cleaned_file_path}\")"
   ]
  }
 ],
 "metadata": {
  "kernelspec": {
   "display_name": "Python 3",
   "language": "python",
   "name": "python3"
  },
  "language_info": {
   "codemirror_mode": {
    "name": "ipython",
    "version": 3
   },
   "file_extension": ".py",
   "mimetype": "text/x-python",
   "name": "python",
   "nbconvert_exporter": "python",
   "pygments_lexer": "ipython3",
   "version": "3.11.2"
  }
 },
 "nbformat": 4,
 "nbformat_minor": 5
}
