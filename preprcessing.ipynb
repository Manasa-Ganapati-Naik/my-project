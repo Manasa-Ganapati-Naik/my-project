{
 "cells": [
  {
   "cell_type": "code",
   "execution_count": 3,
   "id": "c2e15c57",
   "metadata": {},
   "outputs": [],
   "source": [
    "import pandas as pd\n",
    "import numpy as np"
   ]
  },
  {
   "cell_type": "code",
   "execution_count": 4,
   "id": "a3c2d470",
   "metadata": {},
   "outputs": [
    {
     "name": "stdout",
     "output_type": "stream",
     "text": [
      "         id                                               name  \\\n",
      "0  12532561  Jessica OLSEN, on behalf of herself and all ot...   \n",
      "1  12532560  AMERICAN CENTER FOR LAW AND JUSTICE, Plaintiff...   \n",
      "2  12532562  UNITED STATES of America, Plaintiff, v. Steven...   \n",
      "3  12532563  Kaori STEARNEY, et al., Plaintiffs, v. UNITED ...   \n",
      "4  12532564  IN RE: GERMAN AUTOMOTIVE MANUFACTURERS ANTITRU...   \n",
      "\n",
      "                                   name_abbreviation decision_date  \\\n",
      "0                              Olsen v. Nelnet, Inc.    2019-05-21   \n",
      "1  Am. Ctr. for Law & Justice v. U.S. Dep't of Ju...    2019-06-30   \n",
      "2                             United States v. Emery    2019-06-21   \n",
      "3                          Stearney v. United States    2019-05-16   \n",
      "4          In re German Auto. Mfrs. Antitrust Litig.    2019-06-17   \n",
      "\n",
      "                    docket_number court/name_abbreviation  \n",
      "0                    4:18-CV-3081                 D. Neb.  \n",
      "1  Civil Action No. 16-2188 (TJK)                  D.D.C.  \n",
      "2               3:18-CR-30122-RAL                 D. S.D.  \n",
      "3           No. CV16-8060-PCT-DGC                D. Ariz.  \n",
      "4          MDL No. 2796 CRB (JSC)               N.D. Cal.  \n"
     ]
    }
   ],
   "source": [
    "path=\"C:/Users/manas/my-project/cleaned_legal_metadata.csv\"\n",
    "df=pd.read_csv(path)\n",
    "print(df.head())"
   ]
  },
  {
   "cell_type": "code",
   "execution_count": 5,
   "id": "a561acda",
   "metadata": {},
   "outputs": [
    {
     "name": "stdout",
     "output_type": "stream",
     "text": [
      "          id                                               name  \\\n",
      "84  12532643  WORLD WATER WORKS HOLDINGS, INC., Plaintiff, v...   \n",
      "85  12532644  Caitlin BERNARD M.D., Plaintiff, v. INDIVIDUAL...   \n",
      "86  12532645  REXING QUALITY EGGS, Plaintiff, v. REMBRANDT E...   \n",
      "87  12532646  Osha JOSEPH, Plaintiff, v. Sgt. Bobby DONAHUE,...   \n",
      "88  12532647  ZURICH AMERICAN INSURANCE COMPANY, Plaintiff, ...   \n",
      "\n",
      "                                    name_abbreviation decision_date  \\\n",
      "84  World Water Works Holdings, Inc. v. Cont'l Cas...    2019-06-24   \n",
      "85  Bernard v. Individual Members of the Ind. Med....    2019-06-28   \n",
      "86                    Eggs v. Rembrandt Enters., Inc.    2019-05-29   \n",
      "87                                  Joseph v. Donahue    2019-05-28   \n",
      "88          Zurich Am. Ins. Co. v. Ins. Co. of N. Am.    2019-05-21   \n",
      "\n",
      "                docket_number court/name_abbreviation  \n",
      "84             No. 17 CV 5237               N.D. Ill.  \n",
      "85  No. 1:19-cv-01660-SEB-DML               S.D. Ind.  \n",
      "86  No. 3:19-cv-00031-JMS-MPB               S.D. Ind.  \n",
      "87  Civil No. 17-4712 ADM/SER                D. Minn.  \n",
      "88  Case No. 4:14 CV 1112 CDP                E.D. Mo.  \n"
     ]
    }
   ],
   "source": [
    "print(df.tail())"
   ]
  },
  {
   "cell_type": "code",
   "execution_count": 6,
   "id": "72b8bd98",
   "metadata": {},
   "outputs": [
    {
     "name": "stdout",
     "output_type": "stream",
     "text": [
      "Index(['id', 'name', 'name_abbreviation', 'decision_date', 'docket_number',\n",
      "       'court/name_abbreviation'],\n",
      "      dtype='object')\n",
      "id                         0\n",
      "name                       0\n",
      "name_abbreviation          0\n",
      "decision_date              0\n",
      "docket_number              0\n",
      "court/name_abbreviation    0\n",
      "dtype: int64\n"
     ]
    }
   ],
   "source": [
    "print(df.columns)\n",
    "print(df.isnull().sum())"
   ]
  },
  {
   "cell_type": "code",
   "execution_count": 9,
   "id": "61364dd4",
   "metadata": {},
   "outputs": [
    {
     "name": "stdout",
     "output_type": "stream",
     "text": [
      "(89, 6)\n"
     ]
    }
   ],
   "source": [
    "print(df.shape)"
   ]
  },
  {
   "cell_type": "code",
   "execution_count": 11,
   "id": "0a9bb201",
   "metadata": {},
   "outputs": [
    {
     "name": "stdout",
     "output_type": "stream",
     "text": [
      "id                          int64\n",
      "name                       object\n",
      "name_abbreviation          object\n",
      "decision_date              object\n",
      "docket_number              object\n",
      "court/name_abbreviation    object\n",
      "dtype: object\n"
     ]
    }
   ],
   "source": [
    "print(df.dtypes)"
   ]
  }
 ],
 "metadata": {
  "kernelspec": {
   "display_name": "Python 3",
   "language": "python",
   "name": "python3"
  },
  "language_info": {
   "codemirror_mode": {
    "name": "ipython",
    "version": 3
   },
   "file_extension": ".py",
   "mimetype": "text/x-python",
   "name": "python",
   "nbconvert_exporter": "python",
   "pygments_lexer": "ipython3",
   "version": "3.11.2"
  }
 },
 "nbformat": 4,
 "nbformat_minor": 5
}
